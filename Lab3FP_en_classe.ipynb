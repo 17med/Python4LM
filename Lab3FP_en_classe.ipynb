{
  "nbformat": 4,
  "nbformat_minor": 0,
  "metadata": {
    "colab": {
      "provenance": [],
      "authorship_tag": "ABX9TyORH4oY8btHFnl1Dr01h8ir",
      "include_colab_link": true
    },
    "kernelspec": {
      "name": "python3",
      "display_name": "Python 3"
    },
    "language_info": {
      "name": "python"
    }
  },
  "cells": [
    {
      "cell_type": "markdown",
      "metadata": {
        "id": "view-in-github",
        "colab_type": "text"
      },
      "source": [
        "<a href=\"https://colab.research.google.com/github/nevermind78/Python4LM/blob/master/Lab3FP_en_classe.ipynb\" target=\"_parent\"><img src=\"https://colab.research.google.com/assets/colab-badge.svg\" alt=\"Open In Colab\"/></a>"
      ]
    },
    {
      "cell_type": "markdown",
      "source": [
        "# Functionnal programming\n",
        "\n"
      ],
      "metadata": {
        "id": "OfcNKjSoJMly"
      }
    },
    {
      "cell_type": "markdown",
      "source": [
        "## Lambda function \n",
        "\n"
      ],
      "metadata": {
        "id": "ps0HfkTtQmd9"
      }
    },
    {
      "cell_type": "markdown",
      "source": [
        "### Example :\n",
        "\n",
        "```python\n",
        "(lambda val: val ** 2)(5)  # => 25\n",
        "(lambda x, y: x * y)(3, 8)  # => 24\n",
        "(lambda s: s.strip().lower()[:2])('  PyTHon')  # => 'py'\n",
        "```\n",
        " $$f:x\\mapsto f(x)$$\n",
        "\n",
        "```python\n",
        "#forme anonyme\n",
        " lambda x: f(x)\n",
        "# affectation\n",
        "f= lambda x: f(x)\n",
        "```"
      ],
      "metadata": {
        "id": "NBiN_bGAQuso"
      }
    },
    {
      "cell_type": "code",
      "source": [
        "# Long form function implementation with python\n",
        "def fonction(x):\n",
        "  return x**2+x+1"
      ],
      "metadata": {
        "id": "yHR6h4G0JPNR"
      },
      "execution_count": null,
      "outputs": []
    },
    {
      "cell_type": "code",
      "source": [
        "f=lambda x:x**2+x+1"
      ],
      "metadata": {
        "id": "Z0rMqQOoLrDE"
      },
      "execution_count": null,
      "outputs": []
    },
    {
      "cell_type": "code",
      "source": [
        "fonction(-2)"
      ],
      "metadata": {
        "colab": {
          "base_uri": "https://localhost:8080/"
        },
        "id": "MWBPp-AfMWw5",
        "outputId": "285e0c10-2aed-4b32-a2f8-b8b69d03e3c7"
      },
      "execution_count": null,
      "outputs": [
        {
          "output_type": "execute_result",
          "data": {
            "text/plain": [
              "3"
            ]
          },
          "metadata": {},
          "execution_count": 3
        }
      ]
    },
    {
      "cell_type": "code",
      "source": [
        "f(-2)"
      ],
      "metadata": {
        "colab": {
          "base_uri": "https://localhost:8080/"
        },
        "id": "zUXfyBQUMYbB",
        "outputId": "ecfc86c6-1bcf-4241-c704-f7d505d3fa61"
      },
      "execution_count": null,
      "outputs": [
        {
          "output_type": "execute_result",
          "data": {
            "text/plain": [
              "3"
            ]
          },
          "metadata": {},
          "execution_count": 4
        }
      ]
    },
    {
      "cell_type": "code",
      "source": [
        "(lambda val: val ** 2)(5)"
      ],
      "metadata": {
        "colab": {
          "base_uri": "https://localhost:8080/"
        },
        "id": "BDcfL7bYMZxB",
        "outputId": "faa06a4d-96fe-4294-d67c-6d8c7b36bfc8"
      },
      "execution_count": null,
      "outputs": [
        {
          "output_type": "execute_result",
          "data": {
            "text/plain": [
              "25"
            ]
          },
          "metadata": {},
          "execution_count": 6
        }
      ]
    },
    {
      "cell_type": "code",
      "source": [
        "(lambda x, y: x * y)(3, 8) "
      ],
      "metadata": {
        "colab": {
          "base_uri": "https://localhost:8080/"
        },
        "id": "-Z914WgfNH32",
        "outputId": "6c6fdd49-7747-402d-cd7a-7e3de14d5fa8"
      },
      "execution_count": null,
      "outputs": [
        {
          "output_type": "execute_result",
          "data": {
            "text/plain": [
              "24"
            ]
          },
          "metadata": {},
          "execution_count": 7
        }
      ]
    },
    {
      "cell_type": "code",
      "source": [
        "(lambda s,n: s.strip().lower()[:n])('  PyTHon',4) "
      ],
      "metadata": {
        "colab": {
          "base_uri": "https://localhost:8080/",
          "height": 36
        },
        "id": "Y5TUarIaNTsc",
        "outputId": "1ba33c07-84ba-48e2-b994-30d4155fd114"
      },
      "execution_count": null,
      "outputs": [
        {
          "output_type": "execute_result",
          "data": {
            "text/plain": [
              "'pyth'"
            ],
            "application/vnd.google.colaboratory.intrinsic+json": {
              "type": "string"
            }
          },
          "metadata": {},
          "execution_count": 11
        }
      ]
    },
    {
      "cell_type": "code",
      "source": [
        "def fact(n):\n",
        "  if n==0:\n",
        "    return 1\n",
        "  else:\n",
        "    return n*fact(n-1)"
      ],
      "metadata": {
        "id": "ffDv0nvsNtHh"
      },
      "execution_count": null,
      "outputs": []
    },
    {
      "cell_type": "code",
      "source": [
        "fact(4)"
      ],
      "metadata": {
        "colab": {
          "base_uri": "https://localhost:8080/"
        },
        "id": "hFs8Sq2uPLid",
        "outputId": "b637688b-a686-419b-9178-9807b2fea2fe"
      },
      "execution_count": null,
      "outputs": [
        {
          "output_type": "execute_result",
          "data": {
            "text/plain": [
              "24"
            ]
          },
          "metadata": {},
          "execution_count": 14
        }
      ]
    },
    {
      "cell_type": "code",
      "source": [
        "fac=lambda n:1 if n==0 else n*fac(n-1)"
      ],
      "metadata": {
        "id": "JRmE11u4PNDs"
      },
      "execution_count": null,
      "outputs": []
    },
    {
      "cell_type": "code",
      "source": [
        "fac(4)"
      ],
      "metadata": {
        "colab": {
          "base_uri": "https://localhost:8080/"
        },
        "id": "pi4U-phHPXlS",
        "outputId": "8e1b607b-32d6-4b78-80d1-65a4c9484310"
      },
      "execution_count": null,
      "outputs": [
        {
          "output_type": "execute_result",
          "data": {
            "text/plain": [
              "24"
            ]
          },
          "metadata": {},
          "execution_count": 16
        }
      ]
    },
    {
      "cell_type": "markdown",
      "source": [
        "## MAP\n",
        "\n",
        "\n",
        "\n",
        "\n",
        "| From  | To| \n",
        "| --- | --- | \n",
        "| `['12', '-2', '0']` | `[12, -2, 0]` |\n",
        "| `['hello', 'world']`  | `[5, 5]` |\n",
        "| `['hello', 'world']`|`['olleh', 'dlrow']` |\n",
        "| `range(2, 6)`|`[(2, 4, 8), (3, 9, 27), (4, 16, 64), (5, 25, 125)]` |\n",
        "| `zip(range(2, 5), range(3, 9, 2))`|`[6, 15, 28]` |\n"
      ],
      "metadata": {
        "id": "IKS2dN2BP26O"
      }
    },
    {
      "cell_type": "code",
      "source": [
        "A=['12', '-2', '0']#===>\t[12, -2, 0]"
      ],
      "metadata": {
        "id": "yx7ToQhLPam2"
      },
      "execution_count": null,
      "outputs": []
    },
    {
      "cell_type": "code",
      "source": [
        "# List comprehension\n",
        "[int(x) for x in A]"
      ],
      "metadata": {
        "colab": {
          "base_uri": "https://localhost:8080/"
        },
        "id": "28PPXXhPREPZ",
        "outputId": "deabeecf-c1f7-4666-a9bc-1d8390f26b93"
      },
      "execution_count": null,
      "outputs": [
        {
          "output_type": "execute_result",
          "data": {
            "text/plain": [
              "[12, -2, 0]"
            ]
          },
          "metadata": {},
          "execution_count": 18
        }
      ]
    },
    {
      "cell_type": "code",
      "source": [
        "list(map(int,A))"
      ],
      "metadata": {
        "colab": {
          "base_uri": "https://localhost:8080/"
        },
        "id": "8NgMzseaRTnQ",
        "outputId": "ab50aba6-0e67-4241-8c69-3ff7870375b9"
      },
      "execution_count": null,
      "outputs": [
        {
          "output_type": "execute_result",
          "data": {
            "text/plain": [
              "[12, -2, 0]"
            ]
          },
          "metadata": {},
          "execution_count": 20
        }
      ]
    },
    {
      "cell_type": "code",
      "source": [
        "# list(map(f( fonction),seq)) ===>[f(seq[0]), f(seq[1]),....,f(seq[-1])] "
      ],
      "metadata": {
        "id": "eyMF_HxIRvIl"
      },
      "execution_count": null,
      "outputs": []
    },
    {
      "cell_type": "code",
      "source": [
        "B=['hello', 'world']\t# ====> [5, 5]"
      ],
      "metadata": {
        "id": "UIkrWeiaSHHc"
      },
      "execution_count": null,
      "outputs": []
    },
    {
      "cell_type": "code",
      "source": [
        "[len(x) for x in B]"
      ],
      "metadata": {
        "colab": {
          "base_uri": "https://localhost:8080/"
        },
        "id": "JCAY2FovSozZ",
        "outputId": "0d152e40-d6f5-47b3-86d4-d65c49a05950"
      },
      "execution_count": null,
      "outputs": [
        {
          "output_type": "execute_result",
          "data": {
            "text/plain": [
              "[5, 5]"
            ]
          },
          "metadata": {},
          "execution_count": 23
        }
      ]
    },
    {
      "cell_type": "code",
      "source": [
        "C=['hello', 'world']\t# ===>['olleh', 'dlrow']"
      ],
      "metadata": {
        "id": "t-LHLnWrSwHq"
      },
      "execution_count": null,
      "outputs": []
    },
    {
      "cell_type": "code",
      "source": [
        "[x[::-1] for x in C]"
      ],
      "metadata": {
        "colab": {
          "base_uri": "https://localhost:8080/"
        },
        "id": "TVj1xal-UJdO",
        "outputId": "b842f875-2c6b-44bb-d0b9-d67d81a62454"
      },
      "execution_count": null,
      "outputs": [
        {
          "output_type": "execute_result",
          "data": {
            "text/plain": [
              "['olleh', 'dlrow']"
            ]
          },
          "metadata": {},
          "execution_count": 25
        }
      ]
    },
    {
      "cell_type": "code",
      "source": [
        "list(map(lambda x:x[::-1],C))"
      ],
      "metadata": {
        "colab": {
          "base_uri": "https://localhost:8080/"
        },
        "id": "pJMhgN6BUM5k",
        "outputId": "42aa2ba3-f494-4bf6-ef28-56eb0149f6ba"
      },
      "execution_count": null,
      "outputs": [
        {
          "output_type": "execute_result",
          "data": {
            "text/plain": [
              "['olleh', 'dlrow']"
            ]
          },
          "metadata": {},
          "execution_count": 26
        }
      ]
    },
    {
      "cell_type": "code",
      "source": [
        "#range(2, 6)====>\t[(2, 4, 8), (3, 9, 27), (4, 16, 64), (5, 25, 125)]"
      ],
      "metadata": {
        "id": "IBrSTsJ2UZZi"
      },
      "execution_count": null,
      "outputs": []
    },
    {
      "cell_type": "code",
      "source": [
        "[(x,x**2,x**3) for x in range(2,6)]"
      ],
      "metadata": {
        "colab": {
          "base_uri": "https://localhost:8080/"
        },
        "id": "3loEKlKMUi00",
        "outputId": "e43d6d27-bc02-4593-81a3-8f9aabe6380a"
      },
      "execution_count": null,
      "outputs": [
        {
          "output_type": "execute_result",
          "data": {
            "text/plain": [
              "[(2, 4, 8), (3, 9, 27), (4, 16, 64), (5, 25, 125)]"
            ]
          },
          "metadata": {},
          "execution_count": 28
        }
      ]
    },
    {
      "cell_type": "code",
      "source": [
        "list(map(lambda x:(x,x**2,x**3),range(2,6)))"
      ],
      "metadata": {
        "colab": {
          "base_uri": "https://localhost:8080/"
        },
        "id": "QKgNLiHCU1wl",
        "outputId": "94af5a39-d269-4d85-c0a5-04155289b787"
      },
      "execution_count": null,
      "outputs": [
        {
          "output_type": "execute_result",
          "data": {
            "text/plain": [
              "[(2, 4, 8), (3, 9, 27), (4, 16, 64), (5, 25, 125)]"
            ]
          },
          "metadata": {},
          "execution_count": 30
        }
      ]
    },
    {
      "cell_type": "code",
      "source": [
        "#zip(range(2, 5), range(3, 9, 2))\t[6, 15, 28]"
      ],
      "metadata": {
        "id": "XU853LbfVJmO"
      },
      "execution_count": null,
      "outputs": []
    },
    {
      "cell_type": "code",
      "source": [
        "#range(2,5) =(2,3,4)\n",
        "#range(3,9,2)=(3,5,7)\n",
        "#zip(range(2, 5), range(3, 9, 2)) ==>(2,3),(3,5),(4,7)\n",
        "\n",
        "list(zip(range(2, 5), range(3, 9, 2)))"
      ],
      "metadata": {
        "colab": {
          "base_uri": "https://localhost:8080/"
        },
        "id": "wKRgJRqIVq3N",
        "outputId": "36c627ae-3fe9-4585-ad62-b6bd02d8b234"
      },
      "execution_count": null,
      "outputs": [
        {
          "output_type": "execute_result",
          "data": {
            "text/plain": [
              "[(2, 3), (3, 5), (4, 7)]"
            ]
          },
          "metadata": {},
          "execution_count": 33
        }
      ]
    },
    {
      "cell_type": "code",
      "source": [
        "list(map(lambda tup:tup[0]*tup[1],zip(range(2, 5), range(3, 9, 2))))"
      ],
      "metadata": {
        "colab": {
          "base_uri": "https://localhost:8080/"
        },
        "id": "bTB_rVaeWTWz",
        "outputId": "8f6c6128-7c72-4a5a-e1af-5d5848b49301"
      },
      "execution_count": null,
      "outputs": [
        {
          "output_type": "execute_result",
          "data": {
            "text/plain": [
              "[6, 15, 28]"
            ]
          },
          "metadata": {},
          "execution_count": 35
        }
      ]
    },
    {
      "cell_type": "code",
      "source": [
        "Z=['Stanford', 'Cal', 'UCLA']#===>\t['Stanford']"
      ],
      "metadata": {
        "id": "T4pARcm_WsBf"
      },
      "execution_count": null,
      "outputs": []
    },
    {
      "cell_type": "code",
      "source": [
        "list(filter(lambda ch:len(ch)>4,Z))"
      ],
      "metadata": {
        "colab": {
          "base_uri": "https://localhost:8080/"
        },
        "id": "Kq6_rP_djHsQ",
        "outputId": "c5291f6b-d273-46f5-99a6-40c502b075be"
      },
      "execution_count": null,
      "outputs": [
        {
          "output_type": "execute_result",
          "data": {
            "text/plain": [
              "['Stanford']"
            ]
          },
          "metadata": {},
          "execution_count": 40
        }
      ]
    },
    {
      "cell_type": "code",
      "source": [
        "# range(20)===>\t[0, 3, 5, 6, 9, 10, 12, 15, 18]"
      ],
      "metadata": {
        "id": "xmLOrst1jTtQ"
      },
      "execution_count": null,
      "outputs": []
    },
    {
      "cell_type": "code",
      "source": [
        "sorted(list(map(lambda x:(x,len(x)),Z)),key=lambda x:x[1])[0][0]"
      ],
      "metadata": {
        "colab": {
          "base_uri": "https://localhost:8080/",
          "height": 36
        },
        "id": "O-cMi6Svj6pf",
        "outputId": "50eb431d-f79f-4a7c-9e37-acbeee75aa19"
      },
      "execution_count": null,
      "outputs": [
        {
          "output_type": "execute_result",
          "data": {
            "text/plain": [
              "'Cal'"
            ],
            "application/vnd.google.colaboratory.intrinsic+json": {
              "type": "string"
            }
          },
          "metadata": {},
          "execution_count": 49
        }
      ]
    },
    {
      "cell_type": "code",
      "source": [
        "list(filter(lambda n:(n%3==0) or (n%5==0),range(20)))"
      ],
      "metadata": {
        "colab": {
          "base_uri": "https://localhost:8080/"
        },
        "id": "G_w_H7y-kTBX",
        "outputId": "54f01320-52da-461b-f65a-5dedc805bc1e"
      },
      "execution_count": null,
      "outputs": [
        {
          "output_type": "execute_result",
          "data": {
            "text/plain": [
              "[0, 3, 5, 6, 9, 10, 12, 15, 18]"
            ]
          },
          "metadata": {},
          "execution_count": 50
        }
      ]
    },
    {
      "cell_type": "code",
      "source": [
        "L=[1,9,4,1,5,9,6,1,9,2,3,3,1,9]\n"
      ],
      "metadata": {
        "id": "Ci67KthJlmWT"
      },
      "execution_count": null,
      "outputs": []
    },
    {
      "cell_type": "code",
      "source": [
        "list(filter(lambda x: x[1]==max(L),list(zip(range(len(L)),L))))"
      ],
      "metadata": {
        "colab": {
          "base_uri": "https://localhost:8080/"
        },
        "id": "YlFXsRtRr_DP",
        "outputId": "80898fec-0c8c-4a35-ab9a-b6839393808a"
      },
      "execution_count": null,
      "outputs": [
        {
          "output_type": "execute_result",
          "data": {
            "text/plain": [
              "[(1, 9), (5, 9), (8, 9), (13, 9)]"
            ]
          },
          "metadata": {},
          "execution_count": 78
        }
      ]
    },
    {
      "cell_type": "code",
      "source": [
        "# minimum avec la poistion\n",
        "list(filter(lambda u:u[1]==min(L),list(zip(range(len(L)),L))))"
      ],
      "metadata": {
        "colab": {
          "base_uri": "https://localhost:8080/"
        },
        "id": "eVceamKantbw",
        "outputId": "4b3138f3-7940-4078-bb12-58797af1ed46"
      },
      "execution_count": null,
      "outputs": [
        {
          "output_type": "execute_result",
          "data": {
            "text/plain": [
              "[(0, 1), (2, 1), (5, 1), (9, 1)]"
            ]
          },
          "metadata": {},
          "execution_count": 72
        }
      ]
    },
    {
      "cell_type": "code",
      "source": [
        "# la position du minimum\n",
        "list(filter(lambda i:L[i]==min(L), range(len(L))))"
      ],
      "metadata": {
        "colab": {
          "base_uri": "https://localhost:8080/"
        },
        "id": "qwYQ2OYQp2F8",
        "outputId": "77d7022b-64eb-420e-bfea-e99a55a03e30"
      },
      "execution_count": null,
      "outputs": [
        {
          "output_type": "execute_result",
          "data": {
            "text/plain": [
              "[0, 2, 5, 9]"
            ]
          },
          "metadata": {},
          "execution_count": 73
        }
      ]
    },
    {
      "cell_type": "code",
      "source": [
        "list(filter(lambda i:L[i]==min(L), range(len(L))))"
      ],
      "metadata": {
        "id": "8osgfVIaqUQI"
      },
      "execution_count": null,
      "outputs": []
    }
  ]
}