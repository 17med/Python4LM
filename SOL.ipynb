{
 "cells": [
  {
   "attachments": {},
   "cell_type": "markdown",
   "metadata": {},
   "source": [
    "$$M=\\begin{pmatrix}1&2&3&4\\\\5&3&4&11\\\\0&3&9&112\\end{pmatrix}$$"
   ]
  },
  {
   "cell_type": "code",
   "execution_count": 4,
   "metadata": {},
   "outputs": [],
   "source": [
    "M=[[1,2,3,4],[5,3,4,11],[0,3,9,112]]\n"
   ]
  },
  {
   "cell_type": "code",
   "execution_count": 9,
   "metadata": {},
   "outputs": [
    {
     "data": {
      "text/plain": [
       "[[0, 0, 0, 0, 0],\n",
       " [0, 0, 0, 0, 0],\n",
       " [0, 0, 0, 0, 0],\n",
       " [0, 0, 0, 0, 0],\n",
       " [0, 0, 0, 0, 0]]"
      ]
     },
     "execution_count": 9,
     "metadata": {},
     "output_type": "execute_result"
    }
   ],
   "source": [
    "M=[[0]*5]*5 # a ne pas faire\n",
    "M"
   ]
  },
  {
   "cell_type": "code",
   "execution_count": 11,
   "metadata": {},
   "outputs": [
    {
     "data": {
      "text/plain": [
       "[[0, 0, 'a', 0, 0],\n",
       " [0, 0, 'a', 0, 0],\n",
       " [0, 0, 'a', 0, 0],\n",
       " [0, 0, 'a', 0, 0],\n",
       " [0, 0, 'a', 0, 0]]"
      ]
     },
     "execution_count": 11,
     "metadata": {},
     "output_type": "execute_result"
    }
   ],
   "source": [
    "M[1][2]='a'\n",
    "M"
   ]
  },
  {
   "cell_type": "code",
   "execution_count": 17,
   "metadata": {},
   "outputs": [
    {
     "data": {
      "text/plain": [
       "[[11, 0, 0, 0, 0],\n",
       " [0, 0, 0, 0, 0],\n",
       " [0, 0, 0, 0, 0],\n",
       " [0, 0, 0, 0, 0],\n",
       " [0, 0, 0, 0, 0]]"
      ]
     },
     "execution_count": 17,
     "metadata": {},
     "output_type": "execute_result"
    }
   ],
   "source": [
    "M=[[0,0,0,0,0] for i in range(5)]\n",
    "M[0][0]=11\n",
    "M"
   ]
  },
  {
   "cell_type": "code",
   "execution_count": 19,
   "metadata": {},
   "outputs": [
    {
     "data": {
      "text/plain": [
       "[[0, 0, 0, 0, 0],\n",
       " [0, 0, 0, 0, 0],\n",
       " [0, 0, 0, 0, 0],\n",
       " [0, 0, 0, 0, 0],\n",
       " [0, 0, 0, 0, 0]]"
      ]
     },
     "execution_count": 19,
     "metadata": {},
     "output_type": "execute_result"
    }
   ],
   "source": [
    "M=[[0,0,0,0,0] for i in range(5)]\n",
    "M"
   ]
  },
  {
   "cell_type": "code",
   "execution_count": 28,
   "metadata": {},
   "outputs": [],
   "source": [
    "def matrix(motcle):\n",
    "    M=[[0,0,0,0,0] for i in range(5)]\n",
    "    alphabet='ABCDEFGHIJKLMNOPQRTSUVXYZ'\n",
    "    i,j=0,0\n",
    "    for pos in range(len(motcle)):\n",
    "        if j==5:\n",
    "            i+=1\n",
    "            j=0\n",
    "        M[i][j]=motcle[pos]\n",
    "        j+=1\n",
    "    for pos in range(len(alphabet)):\n",
    "        if j==5:\n",
    "            i+=1\n",
    "            j=0\n",
    "        if alphabet[pos] not in motcle:\n",
    "            M[i][j]=alphabet[pos]\n",
    "            j+=1\n",
    "    return M"
   ]
  },
  {
   "cell_type": "code",
   "execution_count": 29,
   "metadata": {},
   "outputs": [
    {
     "data": {
      "text/plain": [
       "[['M', 'Y', 'S', 'T', 'E'],\n",
       " ['R', 'A', 'B', 'C', 'D'],\n",
       " ['F', 'G', 'H', 'I', 'J'],\n",
       " ['K', 'L', 'N', 'O', 'P'],\n",
       " ['Q', 'U', 'V', 'X', 'Z']]"
      ]
     },
     "execution_count": 29,
     "metadata": {},
     "output_type": "execute_result"
    }
   ],
   "source": [
    "matrix('MYSTER')"
   ]
  },
  {
   "cell_type": "code",
   "execution_count": 33,
   "metadata": {},
   "outputs": [
    {
     "data": {
      "text/plain": [
       "['M',\n",
       " 'Y',\n",
       " 'S',\n",
       " 'T',\n",
       " 'E',\n",
       " 'R',\n",
       " 'A',\n",
       " 'B',\n",
       " 'C',\n",
       " 'D',\n",
       " 'F',\n",
       " 'G',\n",
       " 'H',\n",
       " 'I',\n",
       " 'J',\n",
       " 'K',\n",
       " 'L',\n",
       " 'N',\n",
       " 'O',\n",
       " 'P',\n",
       " 'Q',\n",
       " 'U',\n",
       " 'V',\n",
       " 'X',\n",
       " 'Z']"
      ]
     },
     "execution_count": 33,
     "metadata": {},
     "output_type": "execute_result"
    }
   ],
   "source": [
    "alphabet='ABCDEFGHIJKLMNOPQRTSUVXYZ'\n",
    "list('MYSTER')+[char for char in alphabet if char not in 'MYSTER']"
   ]
  },
  {
   "cell_type": "code",
   "execution_count": 37,
   "metadata": {},
   "outputs": [],
   "source": [
    "def matrix2(motcle):\n",
    "    alphabet='ABCDEFGHIJKLMNOPQRTSUVXYZ'\n",
    "    L=list(motcle)+[char for char in alphabet if char not in motcle]\n",
    "    return [[L[5*i+j] for j in range(5)] for i in range(5)]         "
   ]
  },
  {
   "cell_type": "code",
   "execution_count": 38,
   "metadata": {},
   "outputs": [
    {
     "data": {
      "text/plain": [
       "[['M', 'Y', 'S', 'T', 'E'],\n",
       " ['R', 'A', 'B', 'C', 'D'],\n",
       " ['F', 'G', 'H', 'I', 'J'],\n",
       " ['K', 'L', 'N', 'O', 'P'],\n",
       " ['Q', 'U', 'V', 'X', 'Z']]"
      ]
     },
     "execution_count": 38,
     "metadata": {},
     "output_type": "execute_result"
    }
   ],
   "source": [
    "matrix2('MYSTER')"
   ]
  },
  {
   "cell_type": "code",
   "execution_count": 41,
   "metadata": {},
   "outputs": [],
   "source": [
    "def matrix3(motcle):\n",
    "    alphabet='ABCDEFGHIJKLMNOPQRTSUVXYZ'\n",
    "    L=list(motcle)+[char for char in alphabet if char not in motcle]\n",
    "    M=[[0,0,0,0,0] for i in range(5)]\n",
    "    for pos in range(len(L)):\n",
    "        M[pos//5][pos%5]=L[pos]\n",
    "    return M"
   ]
  },
  {
   "cell_type": "markdown",
   "metadata": {},
   "source": []
  },
  {
   "cell_type": "code",
   "execution_count": 43,
   "metadata": {},
   "outputs": [
    {
     "data": {
      "text/plain": [
       "[['M', 'Y', 'S', 'T', 'E'],\n",
       " ['R', 'A', 'B', 'C', 'D'],\n",
       " ['F', 'G', 'H', 'I', 'J'],\n",
       " ['K', 'L', 'N', 'O', 'P'],\n",
       " ['Q', 'U', 'V', 'X', 'Z']]"
      ]
     },
     "execution_count": 43,
     "metadata": {},
     "output_type": "execute_result"
    }
   ],
   "source": [
    "matrix3('MYSTER')"
   ]
  },
  {
   "cell_type": "code",
   "execution_count": 48,
   "metadata": {},
   "outputs": [],
   "source": [
    "def Crypter_Polybe(msg,motcle):\n",
    "    M=matrix(motcle)\n",
    "    crypte=''\n",
    "    for pos in range(len(msg)):\n",
    "        if msg[pos]==' ':\n",
    "            crypte+='_'\n",
    "        elif msg[pos]=='W':\n",
    "            crypte+='00'\n",
    "        else:\n",
    "            i,j=0,0\n",
    "            while msg[pos]!=M[i][j]:\n",
    "                j=j+1\n",
    "                if j==5:\n",
    "                    i+=1\n",
    "                    j=0\n",
    "            crypte+=str(i+1)+str(j+1)\n",
    "    return crypte"
   ]
  },
  {
   "cell_type": "code",
   "execution_count": 49,
   "metadata": {},
   "outputs": [
    {
     "name": "stdout",
     "output_type": "stream",
     "text": [
      "2433152124331521_454442122315_25224313_003441344515253422\n"
     ]
    }
   ],
   "source": [
    "cle = \"MYSTER\"\n",
    "msg = \"CHERCHER POLYBE DANS WIKIPEDIA\"\n",
    "crypte = Crypter_Polybe(msg, cle)\n",
    "print(crypte)"
   ]
  },
  {
   "cell_type": "code",
   "execution_count": null,
   "metadata": {},
   "outputs": [],
   "source": [
    "def Crypter_Polybe(msg,motcle):\n",
    "    M=matrix(motcle)\n",
    "    crypte=''\n",
    "    for pos in range(len(msg)):\n",
    "        if msg[pos]==' ':\n",
    "            crypte+='_'\n",
    "        elif msg[pos]=='W':\n",
    "            crypte+='00'\n",
    "        else:\n",
    "            i,j=0,0\n",
    "            while msg[pos]!=M[i][j]:\n",
    "                j=j+1\n",
    "                if j==5:\n",
    "                    i+=1\n",
    "                    j=0\n",
    "            crypte+=str(i+1)+str(j+1)\n",
    "    return crypte"
   ]
  },
  {
   "cell_type": "code",
   "execution_count": 50,
   "metadata": {},
   "outputs": [
    {
     "data": {
      "text/plain": [
       "[['M', 'Y', 'S', 'T', 'E'],\n",
       " ['R', 'A', 'B', 'C', 'D'],\n",
       " ['F', 'G', 'H', 'I', 'J'],\n",
       " ['K', 'L', 'N', 'O', 'P'],\n",
       " ['Q', 'U', 'V', 'X', 'Z']]"
      ]
     },
     "execution_count": 50,
     "metadata": {},
     "output_type": "execute_result"
    }
   ],
   "source": [
    "matrix('MYSTER')"
   ]
  },
  {
   "cell_type": "code",
   "execution_count": 58,
   "metadata": {},
   "outputs": [],
   "source": [
    "def CRypter_Polybe(msg,motcle):\n",
    "    dic={matrix(motcle)[i][j]:str(i+1)+str(j+1) for i in range(5) for j in range(5)}\n",
    "    dic['W']='00'\n",
    "    dic[' ']='_'\n",
    "    return ''.join([dic[char] for char in msg])"
   ]
  },
  {
   "cell_type": "code",
   "execution_count": 59,
   "metadata": {},
   "outputs": [
    {
     "data": {
      "text/plain": [
       "'2433152124331521_454442122315_25224313_003441344515253422'"
      ]
     },
     "execution_count": 59,
     "metadata": {},
     "output_type": "execute_result"
    }
   ],
   "source": [
    "cle = \"MYSTER\"\n",
    "msg = \"CHERCHER POLYBE DANS WIKIPEDIA\"\n",
    "CRypter_Polybe(msg,cle)"
   ]
  },
  {
   "cell_type": "code",
   "execution_count": 70,
   "metadata": {},
   "outputs": [],
   "source": [
    "def Decrypter_Polybe(crypte,motcle):\n",
    "    M=matrix(motcle)\n",
    "    msg=''\n",
    "    pos=0\n",
    "    while pos in range(len(crypte)):\n",
    "        if crypte[pos]=='_':\n",
    "            msg+=' '\n",
    "            pos+=1\n",
    "        elif crypte[pos]=='0':\n",
    "            msg+='W'\n",
    "            pos+=2\n",
    "        else:\n",
    "            i,j=int(crypte[pos])-1,int(crypte[pos+1])-1\n",
    "            msg+=M[i][j]\n",
    "            pos+=2            \n",
    "    return msg"
   ]
  },
  {
   "cell_type": "code",
   "execution_count": 71,
   "metadata": {},
   "outputs": [
    {
     "name": "stdout",
     "output_type": "stream",
     "text": [
      "2433152124331521_454442122315_25224313_003441344515253422\n",
      "CHERCHER POLYBE DANS WIKIPEDIA\n"
     ]
    }
   ],
   "source": [
    "cle = \"MYSTER\"\n",
    "msg = \"CHERCHER POLYBE DANS WIKIPEDIA\"\n",
    "crypte=Crypter_Polybe(msg,cle)\n",
    "print(crypte)\n",
    "print(Decrypter_Polybe(crypte,cle))\n"
   ]
  },
  {
   "cell_type": "code",
   "execution_count": null,
   "metadata": {},
   "outputs": [],
   "source": []
  }
 ],
 "metadata": {
  "kernelspec": {
   "display_name": "base",
   "language": "python",
   "name": "python3"
  },
  "language_info": {
   "codemirror_mode": {
    "name": "ipython",
    "version": 3
   },
   "file_extension": ".py",
   "mimetype": "text/x-python",
   "name": "python",
   "nbconvert_exporter": "python",
   "pygments_lexer": "ipython3",
   "version": "3.9.13"
  },
  "orig_nbformat": 4,
  "vscode": {
   "interpreter": {
    "hash": "2fa2db7eb9f38637dde525611352156baff6d25a5a72cb1c9b767eb18198d1b2"
   }
  }
 },
 "nbformat": 4,
 "nbformat_minor": 2
}
