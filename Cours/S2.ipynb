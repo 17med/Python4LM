{
 "cells": [
  {
   "attachments": {},
   "cell_type": "markdown",
   "metadata": {},
   "source": [
    "# Control Flow, Addendum"
   ]
  },
  {
   "cell_type": "code",
   "execution_count": null,
   "metadata": {},
   "outputs": [],
   "source": [
    "n = int(input('How many unicorns would you like? '))"
   ]
  },
  {
   "cell_type": "code",
   "execution_count": null,
   "metadata": {},
   "outputs": [],
   "source": [
    "n"
   ]
  },
  {
   "cell_type": "code",
   "execution_count": null,
   "metadata": {},
   "outputs": [],
   "source": [
    "while True:\n",
    "    try:\n",
    "        n = int(input('How many unicorns would you like? '))\n",
    "        break\n",
    "    except ValueError:\n",
    "        print(\"Invalid input. Try again...\")"
   ]
  },
  {
   "cell_type": "code",
   "execution_count": null,
   "metadata": {},
   "outputs": [],
   "source": [
    "n"
   ]
  },
  {
   "cell_type": "code",
   "execution_count": null,
   "metadata": {},
   "outputs": [],
   "source": [
    "while (answer := input(\"Yes/No? \"))[0] not in 'YyNn':\n",
    "    print(\"Please type a phrase that begins with 'Y' or 'N'.\")"
   ]
  },
  {
   "cell_type": "code",
   "execution_count": null,
   "metadata": {},
   "outputs": [],
   "source": [
    "answer"
   ]
  },
  {
   "cell_type": "code",
   "execution_count": null,
   "metadata": {},
   "outputs": [],
   "source": [
    "while (answer := input(\"Enter a palindrome: \")) != answer[::-1]:\n",
    "    print(\"That wasn't a palindrome!\")"
   ]
  },
  {
   "cell_type": "code",
   "execution_count": null,
   "metadata": {},
   "outputs": [],
   "source": [
    "answer"
   ]
  },
  {
   "cell_type": "code",
   "execution_count": null,
   "metadata": {},
   "outputs": [],
   "source": [
    "captains = ['Kirk', 'Picard']\n",
    "\"{caps[0]} > {caps[1]}\".format(caps=captains)"
   ]
  },
  {
   "cell_type": "code",
   "execution_count": null,
   "metadata": {},
   "outputs": [],
   "source": [
    "age=20\n",
    "# String concatenation with +\n",
    "\"I am \" + str(age) + \" years old.\"\n"
   ]
  },
  {
   "cell_type": "code",
   "execution_count": null,
   "metadata": {},
   "outputs": [],
   "source": [
    "# Formatted string literals (only on Python 3.6+)\n",
    "f\"I am {age} years old.\"\n"
   ]
  },
  {
   "cell_type": "code",
   "execution_count": null,
   "metadata": {},
   "outputs": [],
   "source": [
    "f\"{', '.join(['Zheng', 'Antonio', 'Sam'])} are awesome!\""
   ]
  },
  {
   "cell_type": "code",
   "execution_count": null,
   "metadata": {},
   "outputs": [],
   "source": [
    "locals()"
   ]
  },
  {
   "cell_type": "code",
   "execution_count": null,
   "metadata": {},
   "outputs": [],
   "source": [
    "globals()"
   ]
  },
  {
   "cell_type": "code",
   "execution_count": 26,
   "metadata": {},
   "outputs": [
    {
     "name": "stdout",
     "output_type": "stream",
     "text": [
      "Lancelot: Wins 100.00%\n",
      "Galahad: Wins 36.84%\n",
      "Geraint: Wins 75.00%\n",
      "Mordred: Wins 28.57%\n"
     ]
    }
   ],
   "source": [
    "f = open('knights.txt')\n",
    "for line in f:\n",
    "    data = line.split()\n",
    "\n",
    "    name = data[0]\n",
    "    wins = int(data[1])\n",
    "    losses = int(data[2])\n",
    "    win_percent = 100 * wins / (wins + losses)\n",
    "    print(f\"{name}: Wins {win_percent:.2f}%\")\n",
    "f.close()"
   ]
  },
  {
   "cell_type": "code",
   "execution_count": 23,
   "metadata": {},
   "outputs": [],
   "source": [
    "f.close()"
   ]
  },
  {
   "cell_type": "code",
   "execution_count": 25,
   "metadata": {},
   "outputs": [
    {
     "name": "stdout",
     "output_type": "stream",
     "text": [
      "Lancelot: Wins 100.00%\n",
      "Galahad: Wins 36.84%\n",
      "Geraint: Wins 75.00%\n",
      "Mordred: Wins 28.57%\n"
     ]
    }
   ],
   "source": [
    "\n",
    "with open('knights.txt') as f:\n",
    "    for line in f:\n",
    "        data = line.split()\n",
    "        name = data[0]\n",
    "        wins = int(data[1])\n",
    "        losses = int(data[2])\n",
    "        win_percent = 100 * wins / (wins + losses)\n",
    "        print(f\"{name}: Wins {win_percent:.2f}%\")\n",
    "    f.close()"
   ]
  },
  {
   "cell_type": "code",
   "execution_count": null,
   "metadata": {},
   "outputs": [],
   "source": []
  }
 ],
 "metadata": {
  "kernelspec": {
   "display_name": "base",
   "language": "python",
   "name": "python3"
  },
  "language_info": {
   "codemirror_mode": {
    "name": "ipython",
    "version": 3
   },
   "file_extension": ".py",
   "mimetype": "text/x-python",
   "name": "python",
   "nbconvert_exporter": "python",
   "pygments_lexer": "ipython3",
   "version": "3.9.13"
  },
  "orig_nbformat": 4,
  "vscode": {
   "interpreter": {
    "hash": "dd2f083c7091592f6e910b42e81e3d9326587f6134c1427a9ed8e8691fd16a23"
   }
  }
 },
 "nbformat": 4,
 "nbformat_minor": 2
}
