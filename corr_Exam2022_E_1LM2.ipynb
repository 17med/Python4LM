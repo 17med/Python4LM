{
  "cells": [
    {
      "cell_type": "markdown",
      "metadata": {
        "id": "view-in-github",
        "colab_type": "text"
      },
      "source": [
        "<a href=\"https://colab.research.google.com/github/nevermind78/Python4LM/blob/master/corr_Exam2022_E_1LM2.ipynb\" target=\"_parent\"><img src=\"https://colab.research.google.com/assets/colab-badge.svg\" alt=\"Open In Colab\"/></a>"
      ]
    },
    {
      "cell_type": "markdown",
      "metadata": {
        "id": "jVzHu8zNSKmE"
      },
      "source": [
        "\n",
        "<h1 style=\"border:2px solid Tomato;\">Examen Python 2022 session Principale</h1>\n",
        "<h1 style=\"border:2px solid DodgerBlue;\">Problème</h1>\n"
      ]
    },
    {
      "cell_type": "markdown",
      "metadata": {
        "id": "a0BfthJeSKmG"
      },
      "source": [
        "\n",
        "<p>On se propose de crypter un message, formé uniquement par des lettres majuscules et des espaces, en utilisant la méthode de chiffrement de Polybe qui consiste à :</p>\n",
        "<ul ><li><i  >&nbsp;</i>Ranger, dans une matrice carrée de dimension 5x5, les lettres d’un mot-clé donné suivies des lettres restantes de l’alphabet dans l’ordre, à l’exception de la lettre ‘W’.</li><li><i  >&nbsp;</i>Le mot-clé est une chaine de caractères formée uniquement de L lettres majuscules, sans doublons et ne contenant pas la lettre ‘W’ (avec 3&lt;=L&lt;=10).</li><li><i  >&nbsp;</i>Remplacer chaque lettre du message à crypter par les coordonnées de sa position dans la matrice (le numéro de la ligne suivi du numéro de la colonnes), sachant que :<ul  ><li><i  >&nbsp;</i>Le caractère espace ne subit aucun cryptage ;</li><li><i  >&nbsp;</i>La lettre ‘W’ sera remplacée par les coordonnées de la lettre ‘00’</li></ul></li></ul>\n"
      ]
    },
    {
      "cell_type": "markdown",
      "metadata": {
        "id": "dmD_eCQ2SKmG"
      },
      "source": [
        "<p>Pour le mot-clé MYSTER, on construit la matrice suivante :</p>\n",
        "<center>\n",
        "<table class=\"table table-bordered table-striped\" ><tbody><tr><td width=\"28\"><br></td><td width=\"28\">1</td><td width=\"28\">2</td><td width=\"28\">3</td><td width=\"28\">4</td><td width=\"28\">5</td></tr><tr><td width=\"28\">1</td><td width=\"28\">M</td><td width=\"28\">Y</td><td width=\"28\">S</td><td width=\"28\">T</td><td width=\"28\">E</td></tr><tr><td width=\"28\">2</td><td width=\"28\">R</td><td width=\"28\">A</td><td width=\"28\">B</td><td width=\"28\">C</td><td width=\"28\">D</td></tr><tr><td width=\"28\">3</td><td width=\"28\">F</td><td width=\"28\">G</td><td width=\"28\">H</td><td width=\"28\">I</td><td width=\"28\">J</td></tr><tr><td width=\"28\">4</td><td width=\"28\">K</td><td width=\"28\">L</td><td width=\"28\">N</td><td width=\"28\">O</td><td width=\"28\">P</td></tr><tr><td width=\"28\">5</td><td width=\"28\">Q</td><td width=\"28\">U</td><td width=\"28\">V</td><td width=\"28\">X</td><td width=\"28\">Z</td></tr></tbody></table>\n",
        "</center>\n",
        "<p>Le cryptage du message ‘CHERCHER POLYBE DANS WIKIPEDIA’ sera :</p>\n",
        "<p>‘2433152124331521_454442122315_25224313_003441344515253422’ ou le mot ‘WIKIPEDIA’ est crypté comme suit : ‘003441344515253422’ car ‘W’ remplacé par ‘00’, 'I' est remplacé par ‘34’, ‘K’ est remplacé par ‘41’, ‘P’ est remplacé par ‘45’, ‘E’ est remplacé par ‘15’, ‘D’ est remplacé par ‘25’ et ‘A’ est remplacé par ‘22’.</p>"
      ]
    },
    {
      "cell_type": "markdown",
      "metadata": {
        "id": "a_C8FQ48SKmH"
      },
      "source": [
        "<p><strong><em>Travail demandé</em></strong></p>\n",
        "<ol><li>Ecrire une fonction Python <strong>Crypter_Polybe(message, motcle)</strong>, qui permet de crypter un message donné selon le mot-clé en respectant les contraintes cités ci-dessus selon la méthode de chiffrement de Polybe.</li><li>Ecrire une fonction <strong>Decrypter_Polybe(message, motcle)</strong>, qui permet de décrypter le message donné selon le mot-clé et le chiffrement de Polybe.</li></ol>"
      ]
    },
    {
      "cell_type": "code",
      "execution_count": null,
      "metadata": {
        "id": "fb-DWWeSSKmH"
      },
      "outputs": [],
      "source": [
        "import string"
      ]
    },
    {
      "cell_type": "code",
      "execution_count": null,
      "metadata": {
        "id": "U55-xSB4SKmI"
      },
      "outputs": [],
      "source": [
        "alphabet=string.ascii_uppercase"
      ]
    },
    {
      "cell_type": "code",
      "execution_count": null,
      "metadata": {
        "id": "L9jw9H0SSKmI"
      },
      "outputs": [],
      "source": [
        "''.join(list(filter(lambda x:x!='W',alphabet)))"
      ]
    },
    {
      "cell_type": "code",
      "execution_count": null,
      "metadata": {
        "id": "bKKiL_MrSKmI"
      },
      "outputs": [],
      "source": [
        "alphabet='ABCDEFGHIJKLMNOPQRSTUVXYZ'"
      ]
    },
    {
      "cell_type": "markdown",
      "source": [
        "$$ \\begin{pmatrix}\n",
        "1&2&3\\\\\n",
        "5&6&7\\\\\n",
        "0&-1&11\\end{pmatrix}$$"
      ],
      "metadata": {
        "id": "pbgayWCBU7Ug"
      }
    },
    {
      "cell_type": "code",
      "source": [
        "M=[[1,2,3],[5,6,7],[0,-1,11]]"
      ],
      "metadata": {
        "id": "wnAekkueSZG1"
      },
      "execution_count": null,
      "outputs": []
    },
    {
      "cell_type": "code",
      "source": [
        "M"
      ],
      "metadata": {
        "id": "Zg5iF7ybSZJs",
        "outputId": "6c88e028-ddbe-469b-c5c8-8e7b7fa70d3f",
        "colab": {
          "base_uri": "https://localhost:8080/"
        }
      },
      "execution_count": null,
      "outputs": [
        {
          "output_type": "execute_result",
          "data": {
            "text/plain": [
              "[[1, 2, 3], [5, 6, 7], [0, -1, 11]]"
            ]
          },
          "metadata": {},
          "execution_count": 2
        }
      ]
    },
    {
      "cell_type": "code",
      "source": [
        "M"
      ],
      "metadata": {
        "id": "iCHDm8e6SZMW",
        "outputId": "49d46403-f0fc-41c1-b8d2-1c79cbde31b0",
        "colab": {
          "base_uri": "https://localhost:8080/"
        }
      },
      "execution_count": null,
      "outputs": [
        {
          "output_type": "execute_result",
          "data": {
            "text/plain": [
              "[[1, 2, 3], [5, 6, 7], [0, -1, 11]]"
            ]
          },
          "metadata": {},
          "execution_count": 3
        }
      ]
    },
    {
      "cell_type": "code",
      "source": [
        "M[1][2] # le coéf 2 ligne 3 colonnes"
      ],
      "metadata": {
        "id": "3E6-zC_GSZPO",
        "outputId": "c20e4e18-c814-4f49-f3bd-6f88f1365e43",
        "colab": {
          "base_uri": "https://localhost:8080/"
        }
      },
      "execution_count": null,
      "outputs": [
        {
          "output_type": "execute_result",
          "data": {
            "text/plain": [
              "7"
            ]
          },
          "metadata": {},
          "execution_count": 7
        }
      ]
    },
    {
      "cell_type": "code",
      "source": [
        "import string"
      ],
      "metadata": {
        "id": "eZTodnIVSZR9"
      },
      "execution_count": 5,
      "outputs": []
    },
    {
      "cell_type": "code",
      "source": [
        "string.ascii_uppercase"
      ],
      "metadata": {
        "id": "-mGvM5Y-SZUl",
        "outputId": "26b6e5d3-bfa1-41e4-f804-7bd0c0ccb4f7",
        "colab": {
          "base_uri": "https://localhost:8080/",
          "height": 37
        }
      },
      "execution_count": 6,
      "outputs": [
        {
          "output_type": "execute_result",
          "data": {
            "text/plain": [
              "'ABCDEFGHIJKLMNOPQRSTUVWXYZ'"
            ],
            "application/vnd.google.colaboratory.intrinsic+json": {
              "type": "string"
            }
          },
          "metadata": {},
          "execution_count": 6
        }
      ]
    },
    {
      "cell_type": "code",
      "source": [
        "[chr(i) for i in range(65,91) if chr(i)!='W' ]"
      ],
      "metadata": {
        "id": "NlZIv9IuSZXN",
        "outputId": "fcddb06c-d156-4aec-ffd8-2e1360a6196b",
        "colab": {
          "base_uri": "https://localhost:8080/"
        }
      },
      "execution_count": 7,
      "outputs": [
        {
          "output_type": "execute_result",
          "data": {
            "text/plain": [
              "['A',\n",
              " 'B',\n",
              " 'C',\n",
              " 'D',\n",
              " 'E',\n",
              " 'F',\n",
              " 'G',\n",
              " 'H',\n",
              " 'I',\n",
              " 'J',\n",
              " 'K',\n",
              " 'L',\n",
              " 'M',\n",
              " 'N',\n",
              " 'O',\n",
              " 'P',\n",
              " 'Q',\n",
              " 'R',\n",
              " 'S',\n",
              " 'T',\n",
              " 'U',\n",
              " 'V',\n",
              " 'X',\n",
              " 'Y',\n",
              " 'Z']"
            ]
          },
          "metadata": {},
          "execution_count": 7
        }
      ]
    },
    {
      "cell_type": "code",
      "source": [
        "alphabet=\"ABCDEFGHIJKLMNOPQRSTUVXYZ\""
      ],
      "metadata": {
        "id": "C7PZCflaSZZ9"
      },
      "execution_count": 8,
      "outputs": []
    },
    {
      "cell_type": "code",
      "source": [
        "len(alphabet)"
      ],
      "metadata": {
        "id": "NTFubdXiSZcd",
        "outputId": "878be1f0-6bef-449b-e58a-074b1ccb67b1",
        "colab": {
          "base_uri": "https://localhost:8080/"
        }
      },
      "execution_count": 9,
      "outputs": [
        {
          "output_type": "execute_result",
          "data": {
            "text/plain": [
              "25"
            ]
          },
          "metadata": {},
          "execution_count": 9
        }
      ]
    },
    {
      "cell_type": "code",
      "source": [
        "[[0]*5]*5"
      ],
      "metadata": {
        "id": "5LbWsnEHXKct",
        "outputId": "b4100037-93b5-45a3-cbe3-7aa6e3a4789f",
        "colab": {
          "base_uri": "https://localhost:8080/"
        }
      },
      "execution_count": 10,
      "outputs": [
        {
          "output_type": "execute_result",
          "data": {
            "text/plain": [
              "[[0, 0, 0, 0, 0],\n",
              " [0, 0, 0, 0, 0],\n",
              " [0, 0, 0, 0, 0],\n",
              " [0, 0, 0, 0, 0],\n",
              " [0, 0, 0, 0, 0]]"
            ]
          },
          "metadata": {},
          "execution_count": 10
        }
      ]
    },
    {
      "cell_type": "code",
      "source": [
        "motcle='MYSTER'\n",
        "print([c for c in motcle] + [c for c in alphabet if c not in motcle])"
      ],
      "metadata": {
        "id": "xMpbGfn2XaRX",
        "outputId": "b76e0a02-7a2e-4984-b856-392824818d10",
        "colab": {
          "base_uri": "https://localhost:8080/"
        }
      },
      "execution_count": 11,
      "outputs": [
        {
          "output_type": "stream",
          "name": "stdout",
          "text": [
            "['M', 'Y', 'S', 'T', 'E', 'R', 'A', 'B', 'C', 'D', 'F', 'G', 'H', 'I', 'J', 'K', 'L', 'N', 'O', 'P', 'Q', 'U', 'V', 'X', 'Z']\n"
          ]
        }
      ]
    },
    {
      "cell_type": "code",
      "source": [
        "def matrix(motcle):\n",
        "  alphabet=\"ABCDEFGHIJKLMNOPQRSTUVXYZ\"\n",
        "  M=[[0,0,0,0,0] for i in range(5)] \n",
        "  L=[c for c in motcle] +[c for c in alphabet if c not in motcle]\n",
        "  for k in range(len(L)):\n",
        "    M[k//5][k %5]=L[k]\n",
        "  return M\n",
        "matrix('MYSTER')    "
      ],
      "metadata": {
        "id": "gUEBb2fNW9-8",
        "outputId": "3396bd7c-b605-493e-eeac-e97f1efa17c8",
        "colab": {
          "base_uri": "https://localhost:8080/"
        }
      },
      "execution_count": 12,
      "outputs": [
        {
          "output_type": "execute_result",
          "data": {
            "text/plain": [
              "[['M', 'Y', 'S', 'T', 'E'],\n",
              " ['R', 'A', 'B', 'C', 'D'],\n",
              " ['F', 'G', 'H', 'I', 'J'],\n",
              " ['K', 'L', 'N', 'O', 'P'],\n",
              " ['Q', 'U', 'V', 'X', 'Z']]"
            ]
          },
          "metadata": {},
          "execution_count": 12
        }
      ]
    },
    {
      "cell_type": "code",
      "source": [
        "dic={matrix('MYSTER')[i][j]:str(i+1)+str(j+1) for i in range(5) for j in range(5)}\n",
        "dic['X']  "
      ],
      "metadata": {
        "id": "qMP48QT_ggGE",
        "outputId": "9c1f46c9-8a32-4137-ff73-6c38ef538a97",
        "colab": {
          "base_uri": "https://localhost:8080/",
          "height": 37
        }
      },
      "execution_count": 13,
      "outputs": [
        {
          "output_type": "execute_result",
          "data": {
            "text/plain": [
              "'54'"
            ],
            "application/vnd.google.colaboratory.intrinsic+json": {
              "type": "string"
            }
          },
          "metadata": {},
          "execution_count": 13
        }
      ]
    },
    {
      "cell_type": "code",
      "source": [
        "def matrice(motcle):\n",
        "  alphabet=\"ABCDEFGHIJKLMNOPQRSTUVXYZ\" \n",
        "  L=[c for c in motcle] +[c for c in alphabet if c not in motcle]\n",
        "  return [[L[5*i+j] for j in range(5)] for i in range(5)]\n",
        "matrice('MYSTER')  "
      ],
      "metadata": {
        "id": "mOaWH8UNeID-",
        "outputId": "4ecf76f5-7623-4ae1-bf5a-d4504be756b5",
        "colab": {
          "base_uri": "https://localhost:8080/"
        }
      },
      "execution_count": 14,
      "outputs": [
        {
          "output_type": "execute_result",
          "data": {
            "text/plain": [
              "[['M', 'Y', 'S', 'T', 'E'],\n",
              " ['R', 'A', 'B', 'C', 'D'],\n",
              " ['F', 'G', 'H', 'I', 'J'],\n",
              " ['K', 'L', 'N', 'O', 'P'],\n",
              " ['Q', 'U', 'V', 'X', 'Z']]"
            ]
          },
          "metadata": {},
          "execution_count": 14
        }
      ]
    },
    {
      "cell_type": "code",
      "source": [
        "def Crypter_Polybe(msg,motcle):\n",
        "  dic={matrix(motcle)[i][j]:str(i+1)+str(j+1) for i in range(5) for j in range(5)}\n",
        "  dic['W']='00'\n",
        "  dic[' ']='_'\n",
        "  msg_crypte=''\n",
        "  for x in  [dic[char] for char in msg]:\n",
        "    msg_crypte+=x\n",
        "  return msg_crypte\n",
        "\n",
        "\n"
      ],
      "metadata": {
        "id": "dzjNth4Efa5V"
      },
      "execution_count": 15,
      "outputs": []
    },
    {
      "cell_type": "code",
      "source": [
        "def Crypter_Polybe(msg,motcle):\n",
        "  dic={matrix(motcle)[i][j]:str(i+1)+str(j+1) for i in range(5) for j in range(5)}\n",
        "  dic['W']='00'\n",
        "  dic[' ']='_'\n",
        "  return ''.join([dic[char] for char in msg])"
      ],
      "metadata": {
        "id": "BB6f_oHTjMr9"
      },
      "execution_count": 16,
      "outputs": []
    },
    {
      "cell_type": "code",
      "source": [
        "def Decrypter_Polybe(crypte, cle):\n",
        "  dic_inv={str(i+1)+str(j+1):matrice(motcle)[i][j] for i in range(5) for j in range(5)}\n",
        "  dic_inv['00']='W'\n",
        "  return ' '.join([''.join([dic_inv[m[x:x+2]] for x in range(0,len(m),2) ]) for m  in crypte.split('_')])\n",
        "  "
      ],
      "metadata": {
        "id": "Xn1b-UKckjEp"
      },
      "execution_count": 30,
      "outputs": []
    },
    {
      "cell_type": "code",
      "execution_count": 31,
      "metadata": {
        "id": "ft3npoYSSKmK",
        "outputId": "6180d7ae-0c99-4a0c-f2cc-d8cb6c08be26",
        "colab": {
          "base_uri": "https://localhost:8080/"
        }
      },
      "outputs": [
        {
          "output_type": "stream",
          "name": "stdout",
          "text": [
            "2433152124331521_454442122315_25224313_003441344515253422\n",
            "CHERCHER POLYBE DANS WIKIPEDIA\n"
          ]
        }
      ],
      "source": [
        "cle = \"MYSTER\"\n",
        "msg = \"CHERCHER POLYBE DANS WIKIPEDIA\"\n",
        "crypte = Crypter_Polybe(msg, cle)\n",
        "print(crypte)\n",
        " \n",
        "# decrypter\n",
        "claire = Decrypter_Polybe(crypte, cle)\n",
        "print(claire)"
      ]
    },
    {
      "cell_type": "code",
      "source": [
        "chaine_c='2433152124331521_454442122315_25224313_003441344515253422'\n",
        "m_c='2433152124331521'#====>CHERCHER\n",
        "dic_inv={str(i+1)+str(j+1):matrice(motcle)[i][j] for i in range(5) for j in range(5)}\n",
        "dic_inv['00']='W'"
      ],
      "metadata": {
        "id": "jfFtKDgVisZ7"
      },
      "execution_count": 26,
      "outputs": []
    },
    {
      "cell_type": "code",
      "source": [
        "' '.join([''.join([dic_inv[m[x:x+2]] for x in range(0,len(m),2) ]) for m  in chaine_c.split('_')])"
      ],
      "metadata": {
        "colab": {
          "base_uri": "https://localhost:8080/",
          "height": 37
        },
        "id": "s92p8gefk4qs",
        "outputId": "f139e0db-b613-4f98-df70-bca4b93d7654"
      },
      "execution_count": 29,
      "outputs": [
        {
          "output_type": "execute_result",
          "data": {
            "text/plain": [
              "'CHERCHER POLYBE DANS WIKIPEDIA'"
            ],
            "application/vnd.google.colaboratory.intrinsic+json": {
              "type": "string"
            }
          },
          "metadata": {},
          "execution_count": 29
        }
      ]
    },
    {
      "cell_type": "code",
      "source": [
        "###### Paradigme Procedurale\n",
        "\n",
        "def matrice(motcle):\n",
        "    alpha = 'ABCDEFGHIJKLMNOPQRSTUVXYZ' # sans le 'W\n",
        "    Mat = [[0]*5 for _ in range(5)]\n",
        "    Mat[0][0] = motcle[0]\n",
        "    i = 0\n",
        "    j = 1\n",
        "    # remplir le motcle\n",
        "    for pos in range(1, len(motcle)):\n",
        "        if j == 5:\n",
        "            i += 1\n",
        "            j = 0\n",
        "        if motcle[pos] not in motcle[:pos]:\n",
        "            Mat[i][j] = motcle[pos]\n",
        "            j += 1\n",
        "  # remplir le reste\n",
        "    for pos in range(len(alpha)):\n",
        "        if j == 5:\n",
        "            i += 1\n",
        "            j = 0\n",
        "        if alpha[pos] not in motcle:\n",
        "            Mat[i][j] = alpha[pos]\n",
        "            j += 1\n",
        "    return Mat\n",
        "\n",
        "def Crypter_Polybe(msg, motcle):\n",
        "    Mat = matrice(motcle)\n",
        "    res = ''\n",
        "    for pos in range(len(msg)):\n",
        "        if msg[pos] == ' ':\n",
        "            res += '_'\n",
        "        elif msg[pos] == 'W':\n",
        "            res += '00'\n",
        "        else:\n",
        "            i = 0\n",
        "            j = 0\n",
        "            while Mat[i][j] != msg[pos]:\n",
        "                j += 1\n",
        "                if j == 5:\n",
        "                    j = 0\n",
        "                    i += 1\n",
        "            res += str(i+1)+str(j+1)\n",
        "    return res\n",
        "    \n",
        "def Decrypter_Polybe(msg, motcle):\n",
        "    Mat = matrice(motcle)\n",
        "    res = ''\n",
        "    k = 0\n",
        "    while k < len(msg)-1:\n",
        "        if msg[k] == '_':\n",
        "            res += ' '\n",
        "            k += 1\n",
        "        elif msg[k] == '0':\n",
        "            res += 'W'\n",
        "            k += 2\n",
        "        else:\n",
        "            i = int(msg[k])-1\n",
        "            j = int(msg[k+1])-1\n",
        "            res += Mat[i][j]\n",
        "            k += 2\n",
        "    return res"
      ],
      "metadata": {
        "id": "26RtQ65elg0u"
      },
      "execution_count": 33,
      "outputs": []
    },
    {
      "cell_type": "code",
      "source": [],
      "metadata": {
        "id": "lP38sXtFnJKs"
      },
      "execution_count": null,
      "outputs": []
    }
  ],
  "metadata": {
    "kernelspec": {
      "display_name": "Python 3 (ipykernel)",
      "language": "python",
      "name": "python3"
    },
    "language_info": {
      "codemirror_mode": {
        "name": "ipython",
        "version": 3
      },
      "file_extension": ".py",
      "mimetype": "text/x-python",
      "name": "python",
      "nbconvert_exporter": "python",
      "pygments_lexer": "ipython3",
      "version": "3.9.13"
    },
    "colab": {
      "provenance": [],
      "include_colab_link": true
    }
  },
  "nbformat": 4,
  "nbformat_minor": 0
}