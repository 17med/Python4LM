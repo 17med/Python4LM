{
 "cells": [
  {
   "cell_type": "code",
   "execution_count": 8,
   "metadata": {},
   "outputs": [],
   "source": [
    "motce='MYSTER'\n",
    "M=[[0]*5]*5"
   ]
  },
  {
   "cell_type": "code",
   "execution_count": 9,
   "metadata": {},
   "outputs": [
    {
     "data": {
      "text/plain": [
       "[[0, 0, 0, 0, 0],\n",
       " [0, 0, 0, 0, 0],\n",
       " [0, 0, 0, 0, 0],\n",
       " [0, 0, 0, 0, 0],\n",
       " [0, 0, 0, 0, 0]]"
      ]
     },
     "execution_count": 9,
     "metadata": {},
     "output_type": "execute_result"
    }
   ],
   "source": [
    "M"
   ]
  },
  {
   "cell_type": "code",
   "execution_count": 11,
   "metadata": {},
   "outputs": [
    {
     "data": {
      "text/plain": [
       "[[2023, 0, 0, 0, 0],\n",
       " [2023, 0, 0, 0, 0],\n",
       " [2023, 0, 0, 0, 0],\n",
       " [2023, 0, 0, 0, 0],\n",
       " [2023, 0, 0, 0, 0]]"
      ]
     },
     "execution_count": 11,
     "metadata": {},
     "output_type": "execute_result"
    }
   ],
   "source": [
    "M[0][0]=2023 # à ne pas faire\n",
    "M"
   ]
  },
  {
   "cell_type": "code",
   "execution_count": 18,
   "metadata": {},
   "outputs": [],
   "source": [
    "M=[[0,0,0,0,0]for j in range(5)]"
   ]
  },
  {
   "cell_type": "code",
   "execution_count": 17,
   "metadata": {},
   "outputs": [
    {
     "data": {
      "text/plain": [
       "[[0, 0, 0, 0, 0],\n",
       " [0, 0, 0, 0, 0],\n",
       " [0, 0, 0, 0, 0],\n",
       " [0, 0, 0, 0, 0],\n",
       " [0, 0, 0, 0, 0]]"
      ]
     },
     "execution_count": 17,
     "metadata": {},
     "output_type": "execute_result"
    }
   ],
   "source": [
    "M"
   ]
  },
  {
   "cell_type": "code",
   "execution_count": 14,
   "metadata": {},
   "outputs": [],
   "source": [
    "M[0][0]=2023"
   ]
  },
  {
   "cell_type": "code",
   "execution_count": 15,
   "metadata": {},
   "outputs": [
    {
     "data": {
      "text/plain": [
       "[[2023, 0, 0, 0, 0],\n",
       " [0, 0, 0, 0, 0],\n",
       " [0, 0, 0, 0, 0],\n",
       " [0, 0, 0, 0, 0],\n",
       " [0, 0, 0, 0, 0]]"
      ]
     },
     "execution_count": 15,
     "metadata": {},
     "output_type": "execute_result"
    }
   ],
   "source": [
    "M"
   ]
  },
  {
   "cell_type": "code",
   "execution_count": 29,
   "metadata": {},
   "outputs": [],
   "source": [
    "def matrice(motcle):\n",
    "    M=[[0,0,0,0,0]for j in range(5)]\n",
    "    alphabet='ABCDEFGHIJKLMNOPQRSTUVXYZ'\n",
    "    i,j=0,0\n",
    "    for pos in range(len(motcle)):\n",
    "        if j==5:\n",
    "            i+=1\n",
    "            j=0\n",
    "        M[i][j]=motcle[pos]\n",
    "        j+=1\n",
    "    for pos in range(len(alphabet)):\n",
    "        if j==5:\n",
    "            i+=1\n",
    "            j=0\n",
    "        if alphabet[pos] not in motcle:\n",
    "            M[i][j]=alphabet[pos]\n",
    "            j+=1\n",
    "    return M "
   ]
  },
  {
   "cell_type": "code",
   "execution_count": 41,
   "metadata": {},
   "outputs": [
    {
     "data": {
      "text/plain": [
       "[['A', 'N', 'E', 'S', 'B'],\n",
       " ['C', 'D', 'F', 'G', 'H'],\n",
       " ['I', 'J', 'K', 'L', 'M'],\n",
       " ['O', 'P', 'Q', 'R', 'T'],\n",
       " ['U', 'V', 'X', 'Y', 'Z']]"
      ]
     },
     "execution_count": 41,
     "metadata": {},
     "output_type": "execute_result"
    }
   ],
   "source": [
    "matrice('ANES')"
   ]
  },
  {
   "cell_type": "code",
   "execution_count": 37,
   "metadata": {},
   "outputs": [],
   "source": [
    "def Matrice1(motcle):\n",
    "    alphabet='ABCDEFGHIJKLMNOPQRSTUVXYZ'\n",
    "    L=list(motcle)+[ char for char in alphabet if char not in motcle]\n",
    "    return [[L[5*i+j] for j in range(5) ] for i in range(5)]"
   ]
  },
  {
   "cell_type": "code",
   "execution_count": 38,
   "metadata": {},
   "outputs": [
    {
     "data": {
      "text/plain": [
       "[['M', 'Y', 'S', 'T', 'E'],\n",
       " ['R', 'A', 'B', 'C', 'D'],\n",
       " ['F', 'G', 'H', 'I', 'J'],\n",
       " ['K', 'L', 'N', 'O', 'P'],\n",
       " ['Q', 'U', 'V', 'X', 'Z']]"
      ]
     },
     "execution_count": 38,
     "metadata": {},
     "output_type": "execute_result"
    }
   ],
   "source": [
    "matrice('MYSTER')"
   ]
  },
  {
   "cell_type": "code",
   "execution_count": 46,
   "metadata": {},
   "outputs": [],
   "source": [
    "def Crypter_Polybe(msg,cle):\n",
    "    M=matrice(cle)\n",
    "    crypte=''\n",
    "    for pos in range(len(msg)):\n",
    "        if msg[pos]==' ':\n",
    "            crypte+='_'\n",
    "        elif msg[pos]=='W':\n",
    "            crypte+='00'\n",
    "        else:\n",
    "            i,j=0,0\n",
    "            while msg[pos]!=M[i][j]:\n",
    "                j+=1\n",
    "                if j==5:\n",
    "                    i+=1\n",
    "                    j=0\n",
    "            crypte+=str(i+1)+str(j+1)\n",
    "    return crypte"
   ]
  },
  {
   "cell_type": "code",
   "execution_count": 50,
   "metadata": {},
   "outputs": [
    {
     "name": "stdout",
     "output_type": "stream",
     "text": [
      "2433152124331521_454442122315_25224313_003441344515253422\n"
     ]
    }
   ],
   "source": [
    "cle = \"MYSTER\"\n",
    "msg = \"CHERCHER POLYBE DANS WIKIPEDIA\"\n",
    "crypte=Crypter_Polybe(msg,cle)\n",
    "print(crypte)"
   ]
  },
  {
   "cell_type": "code",
   "execution_count": 52,
   "metadata": {},
   "outputs": [],
   "source": [
    "def Decrypter_Polybe(msgc,cle):\n",
    "    M=matrice(cle)\n",
    "    msg=''\n",
    "    pos=0\n",
    "    while pos in range(len(msgc)):\n",
    "        if msgc[pos]=='_':\n",
    "            msg+=' '\n",
    "            pos+=1\n",
    "        elif msgc[pos]=='0':\n",
    "            msg+='W'\n",
    "            pos+=2\n",
    "        else:\n",
    "            i,j=int(msgc[pos])-1,int(msgc[pos+1])-1\n",
    "            msg+=M[i][j]\n",
    "            pos+=2\n",
    "    return msg"
   ]
  },
  {
   "cell_type": "code",
   "execution_count": 54,
   "metadata": {},
   "outputs": [
    {
     "name": "stdout",
     "output_type": "stream",
     "text": [
      "2125134421251344_424134541513_22111214_003133314213223111\n",
      "CHERCHER POLYBE DANS WIKIPEDIA\n"
     ]
    }
   ],
   "source": [
    "cle = \"ANES\"\n",
    "msg = \"CHERCHER POLYBE DANS WIKIPEDIA\"\n",
    "crypte=Crypter_Polybe(msg,cle)\n",
    "print(crypte)\n",
    "print(Decrypter_Polybe(crypte,cle))"
   ]
  },
  {
   "cell_type": "code",
   "execution_count": null,
   "metadata": {},
   "outputs": [],
   "source": []
  }
 ],
 "metadata": {
  "kernelspec": {
   "display_name": "base",
   "language": "python",
   "name": "python3"
  },
  "language_info": {
   "codemirror_mode": {
    "name": "ipython",
    "version": 3
   },
   "file_extension": ".py",
   "mimetype": "text/x-python",
   "name": "python",
   "nbconvert_exporter": "python",
   "pygments_lexer": "ipython3",
   "version": "3.9.13"
  },
  "orig_nbformat": 4,
  "vscode": {
   "interpreter": {
    "hash": "2fa2db7eb9f38637dde525611352156baff6d25a5a72cb1c9b767eb18198d1b2"
   }
  }
 },
 "nbformat": 4,
 "nbformat_minor": 2
}
